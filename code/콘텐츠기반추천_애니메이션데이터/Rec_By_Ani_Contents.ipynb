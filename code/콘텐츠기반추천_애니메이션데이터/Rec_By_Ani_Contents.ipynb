{
 "cells": [
  {
   "cell_type": "code",
   "execution_count": 25,
   "id": "53f6d3c6",
   "metadata": {},
   "outputs": [],
   "source": [
    "import pandas as pd\n",
    "import numpy as np"
   ]
  },
  {
   "cell_type": "code",
   "execution_count": 45,
   "id": "280f5d1d",
   "metadata": {},
   "outputs": [],
   "source": [
    "from sklearn.metrics.pairwise import cosine_similarity"
   ]
  },
  {
   "cell_type": "code",
   "execution_count": 2,
   "id": "f0e2d599",
   "metadata": {},
   "outputs": [],
   "source": [
    "anime_data = pd.read_csv(\"./../data/fixed/anime_full.csv\")"
   ]
  },
  {
   "cell_type": "code",
   "execution_count": 193,
   "id": "d62aebf1",
   "metadata": {},
   "outputs": [],
   "source": [
    "characters = pd.read_csv('./../data/fixed/character_full.csv')"
   ]
  },
  {
   "cell_type": "code",
   "execution_count": 194,
   "id": "a9218de8",
   "metadata": {},
   "outputs": [
    {
     "data": {
      "text/html": [
       "<div>\n",
       "<style scoped>\n",
       "    .dataframe tbody tr th:only-of-type {\n",
       "        vertical-align: middle;\n",
       "    }\n",
       "\n",
       "    .dataframe tbody tr th {\n",
       "        vertical-align: top;\n",
       "    }\n",
       "\n",
       "    .dataframe thead th {\n",
       "        text-align: right;\n",
       "    }\n",
       "</style>\n",
       "<table border=\"1\" class=\"dataframe\">\n",
       "  <thead>\n",
       "    <tr style=\"text-align: right;\">\n",
       "      <th></th>\n",
       "      <th>ID</th>\n",
       "      <th>CharName</th>\n",
       "      <th>Gender</th>\n",
       "      <th>HairColor</th>\n",
       "      <th>Tags</th>\n",
       "      <th>Description</th>\n",
       "      <th>url</th>\n",
       "      <th>MAL_ID</th>\n",
       "    </tr>\n",
       "  </thead>\n",
       "  <tbody>\n",
       "    <tr>\n",
       "      <th>0</th>\n",
       "      <td>0</td>\n",
       "      <td>L</td>\n",
       "      <td>Male</td>\n",
       "      <td>Black</td>\n",
       "      <td>Analytical,Barefoot,Detectives,EyeBags,SweetTooth</td>\n",
       "      <td>Secretive, meticulous and cunning, L's desire ...</td>\n",
       "      <td>https://www.anime-planet.com/characters/l-deat...</td>\n",
       "      <td>1535.0</td>\n",
       "    </tr>\n",
       "    <tr>\n",
       "      <th>1</th>\n",
       "      <td>98</td>\n",
       "      <td>Kakashi HATAKE</td>\n",
       "      <td>Male</td>\n",
       "      <td>Grey</td>\n",
       "      <td>Adults,Anti-GravityHair,Beastmasters,ExoticEye...</td>\n",
       "      <td>Kakashi is a jounin ninja from Konoha who is k...</td>\n",
       "      <td>https://www.anime-planet.com/characters/kakash...</td>\n",
       "      <td>34566.0</td>\n",
       "    </tr>\n",
       "    <tr>\n",
       "      <th>2</th>\n",
       "      <td>348</td>\n",
       "      <td>Light YAGAMI</td>\n",
       "      <td>Male</td>\n",
       "      <td>Brown</td>\n",
       "      <td>Analytical,BigEgo,Charismatic,GodComplex,Manip...</td>\n",
       "      <td>Armed with the power of Ryuk's Death Note, Lig...</td>\n",
       "      <td>https://www.anime-planet.com/characters/light-...</td>\n",
       "      <td>1535.0</td>\n",
       "    </tr>\n",
       "    <tr>\n",
       "      <th>3</th>\n",
       "      <td>279</td>\n",
       "      <td>Naruto UZUMAKI</td>\n",
       "      <td>Male</td>\n",
       "      <td>Blonde</td>\n",
       "      <td>Beastmasters,FaceMarkings,Headbands,Hot-Headed...</td>\n",
       "      <td>Naruto is a young ninja with a single dream: t...</td>\n",
       "      <td>https://www.anime-planet.com/characters/naruto...</td>\n",
       "      <td>35072.0</td>\n",
       "    </tr>\n",
       "    <tr>\n",
       "      <th>4</th>\n",
       "      <td>103</td>\n",
       "      <td>Edward ELRIC</td>\n",
       "      <td>Male</td>\n",
       "      <td>Blonde</td>\n",
       "      <td>Alchemists,ArmBlades,ArtificialLimbs,Braids,Gl...</td>\n",
       "      <td>Known as a prodigy and one of the strongest al...</td>\n",
       "      <td>https://www.anime-planet.com/characters/edward...</td>\n",
       "      <td>121.0</td>\n",
       "    </tr>\n",
       "  </tbody>\n",
       "</table>\n",
       "</div>"
      ],
      "text/plain": [
       "    ID        CharName Gender HairColor  \\\n",
       "0    0               L   Male     Black   \n",
       "1   98  Kakashi HATAKE   Male      Grey   \n",
       "2  348    Light YAGAMI   Male     Brown   \n",
       "3  279  Naruto UZUMAKI   Male    Blonde   \n",
       "4  103    Edward ELRIC   Male    Blonde   \n",
       "\n",
       "                                                Tags  \\\n",
       "0  Analytical,Barefoot,Detectives,EyeBags,SweetTooth   \n",
       "1  Adults,Anti-GravityHair,Beastmasters,ExoticEye...   \n",
       "2  Analytical,BigEgo,Charismatic,GodComplex,Manip...   \n",
       "3  Beastmasters,FaceMarkings,Headbands,Hot-Headed...   \n",
       "4  Alchemists,ArmBlades,ArtificialLimbs,Braids,Gl...   \n",
       "\n",
       "                                         Description  \\\n",
       "0  Secretive, meticulous and cunning, L's desire ...   \n",
       "1  Kakashi is a jounin ninja from Konoha who is k...   \n",
       "2  Armed with the power of Ryuk's Death Note, Lig...   \n",
       "3  Naruto is a young ninja with a single dream: t...   \n",
       "4  Known as a prodigy and one of the strongest al...   \n",
       "\n",
       "                                                 url   MAL_ID  \n",
       "0  https://www.anime-planet.com/characters/l-deat...   1535.0  \n",
       "1  https://www.anime-planet.com/characters/kakash...  34566.0  \n",
       "2  https://www.anime-planet.com/characters/light-...   1535.0  \n",
       "3  https://www.anime-planet.com/characters/naruto...  35072.0  \n",
       "4  https://www.anime-planet.com/characters/edward...    121.0  "
      ]
     },
     "execution_count": 194,
     "metadata": {},
     "output_type": "execute_result"
    }
   ],
   "source": [
    "characters.head()"
   ]
  },
  {
   "cell_type": "code",
   "execution_count": 204,
   "id": "61b39110",
   "metadata": {},
   "outputs": [
    {
     "data": {
      "text/html": [
       "<div>\n",
       "<style scoped>\n",
       "    .dataframe tbody tr th:only-of-type {\n",
       "        vertical-align: middle;\n",
       "    }\n",
       "\n",
       "    .dataframe tbody tr th {\n",
       "        vertical-align: top;\n",
       "    }\n",
       "\n",
       "    .dataframe thead th {\n",
       "        text-align: right;\n",
       "    }\n",
       "</style>\n",
       "<table border=\"1\" class=\"dataframe\">\n",
       "  <thead>\n",
       "    <tr style=\"text-align: right;\">\n",
       "      <th></th>\n",
       "      <th>ID</th>\n",
       "      <th>CharName</th>\n",
       "      <th>Gender</th>\n",
       "      <th>HairColor</th>\n",
       "      <th>Tags</th>\n",
       "      <th>Description</th>\n",
       "      <th>url</th>\n",
       "      <th>MAL_ID</th>\n",
       "    </tr>\n",
       "  </thead>\n",
       "  <tbody>\n",
       "    <tr>\n",
       "      <th>326</th>\n",
       "      <td>1516</td>\n",
       "      <td>Hiruzen SARUTOBI</td>\n",
       "      <td>Male</td>\n",
       "      <td>White</td>\n",
       "      <td>Beastmasters,Elderly,FacialHair,Hats,Ninja,Pip...</td>\n",
       "      <td>Hiruzen Sarutobi is the Third Hokage of Konoha...</td>\n",
       "      <td>https://www.anime-planet.com/characters/hiruze...</td>\n",
       "      <td>20.0</td>\n",
       "    </tr>\n",
       "  </tbody>\n",
       "</table>\n",
       "</div>"
      ],
      "text/plain": [
       "       ID          CharName Gender HairColor  \\\n",
       "326  1516  Hiruzen SARUTOBI   Male     White   \n",
       "\n",
       "                                                  Tags  \\\n",
       "326  Beastmasters,Elderly,FacialHair,Hats,Ninja,Pip...   \n",
       "\n",
       "                                           Description  \\\n",
       "326  Hiruzen Sarutobi is the Third Hokage of Konoha...   \n",
       "\n",
       "                                                   url  MAL_ID  \n",
       "326  https://www.anime-planet.com/characters/hiruze...    20.0  "
      ]
     },
     "execution_count": 204,
     "metadata": {},
     "output_type": "execute_result"
    }
   ],
   "source": [
    "characters[characters['ID']==1516]"
   ]
  },
  {
   "cell_type": "code",
   "execution_count": 14,
   "id": "70fb97da",
   "metadata": {},
   "outputs": [],
   "source": [
    "anime_data = anime_data.drop('synopsis', axis = 1)"
   ]
  },
  {
   "cell_type": "markdown",
   "id": "e41f4bf6",
   "metadata": {},
   "source": [
    "# 장르'만' 가지고 유사도 측정"
   ]
  },
  {
   "cell_type": "code",
   "execution_count": 11,
   "id": "0a56558b",
   "metadata": {},
   "outputs": [],
   "source": [
    "genre_set = set()"
   ]
  },
  {
   "cell_type": "code",
   "execution_count": 12,
   "id": "58e8ee34",
   "metadata": {},
   "outputs": [],
   "source": [
    "for idx in anime_data.index:\n",
    "    genres = anime_data.loc[idx, 'Genres'].split(',')\n",
    "    for genre in genres:\n",
    "        genre_set.add(genre)"
   ]
  },
  {
   "cell_type": "code",
   "execution_count": 29,
   "id": "7fff43a9",
   "metadata": {},
   "outputs": [],
   "source": [
    "genre_list = list(genre_set)"
   ]
  },
  {
   "cell_type": "code",
   "execution_count": 26,
   "id": "aaa03641",
   "metadata": {},
   "outputs": [],
   "source": [
    "score = np.zeros((anime_data['MAL_ID'].nunique(), len(genre_set)))"
   ]
  },
  {
   "cell_type": "code",
   "execution_count": 38,
   "id": "07dca351",
   "metadata": {},
   "outputs": [],
   "source": [
    "for idx in anime_data.index:\n",
    "    temp = anime_data.loc[idx, 'Genres'].split(',')\n",
    "    for i in range(len(genre_list)):\n",
    "        if genre_list[i] in temp:\n",
    "            score[idx,i] = 1.0"
   ]
  },
  {
   "cell_type": "code",
   "execution_count": 46,
   "id": "a20ab15b",
   "metadata": {},
   "outputs": [],
   "source": [
    "cosine_similar = cosine_similarity(score, score)\n",
    "for i in range(len(cosine_similar)):\n",
    "    cosine_similar[i,i] = 1.0"
   ]
  },
  {
   "cell_type": "code",
   "execution_count": 47,
   "id": "d7e89691",
   "metadata": {},
   "outputs": [],
   "source": [
    "cosine_similar_df = pd.DataFrame(cosine_similar)"
   ]
  },
  {
   "cell_type": "code",
   "execution_count": 256,
   "id": "138c771d",
   "metadata": {},
   "outputs": [],
   "source": [
    "def ani_rec_genre(df, cosine_similar_df, ani_name, top_n = 20):\n",
    "    ani_idx = anime_data[anime_data['Name'] == ani_name].index.values\n",
    "    sorted_df = cosine_similar_df[ani_idx]\n",
    "    sorted_df = sorted_df.sort_values(list(ani_idx), ascending = False)\n",
    "    top_n_idx = sorted_df.index[:top_n+1]\n",
    "    top_n_idx_without_input = list(set(top_n_idx) - set(ani_idx))\n",
    "    print(anime_data.loc[top_n_idx_without_input][['Name', 'MAL_ID']])\n",
    "    #print(anime_data.loc[top_n_idx_without_input]['MAL_ID'].values)"
   ]
  },
  {
   "cell_type": "code",
   "execution_count": 189,
   "id": "1068fc02",
   "metadata": {},
   "outputs": [
    {
     "data": {
      "text/plain": [
       "array(['Naruto: Shippuuden Movie 6 - Road to Ninja',\n",
       "       'Boruto: Naruto the Movie - Naruto ga Hokage ni Natta Hi',\n",
       "       'Dragon Ball Z: Summer Vacation Special', 'Rekka no Honoo',\n",
       "       'Dragon Ball Z: Atsumare! Gokuu World',\n",
       "       'Boruto: Jump Festa 2016 Special', 'Dragon Ball Kai (2014)',\n",
       "       'Naruto Soyokazeden Movie: Naruto to Mashin to Mitsu no Onegai Dattebayo!!',\n",
       "       'Naruto: Takigakure no Shitou - Ore ga Eiyuu Dattebayo!',\n",
       "       'Naruto: Honoo no Chuunin Shiken! Naruto vs. Konohamaru!!',\n",
       "       'Naruto: Shippuuden', 'Dragon Ball Kai',\n",
       "       'Naruto: Shippuuden Movie 3 - Hi no Ishi wo Tsugu Mono',\n",
       "       'Dragon Ball Z', 'Dragon Ball Z Movie 15: Fukkatsu no \"F\"',\n",
       "       'Boruto: Naruto the Movie',\n",
       "       'Naruto: Shippuuden Movie 4 - The Lost Tower',\n",
       "       'Dragon Ball GT: Gokuu Gaiden! Yuuki no Akashi wa Suushinchuu',\n",
       "       'Dragon Ball Super',\n",
       "       'Dragon Ball Z Movie 11: Super Senshi Gekiha!! Katsu no wa Ore da'],\n",
       "      dtype=object)"
      ]
     },
     "execution_count": 189,
     "metadata": {},
     "output_type": "execute_result"
    }
   ],
   "source": [
    "ani_rec_genre(anime_data, cosine_similar_df, 'Naruto')"
   ]
  },
  {
   "cell_type": "markdown",
   "id": "b756bff7",
   "metadata": {},
   "source": [
    "# 장르, Type, Source, Year 합산\n",
    "year은 nan이 많아서 생략"
   ]
  },
  {
   "cell_type": "code",
   "execution_count": 231,
   "id": "5ce0bece",
   "metadata": {},
   "outputs": [
    {
     "data": {
      "text/plain": [
       "MAL_ID                                                   20\n",
       "Name                                                 Naruto\n",
       "Genres    Action,Adventure,Comedy,SuperPower,MartialArts...\n",
       "Type                                                     TV\n",
       "Source                                                Manga\n",
       "Year                                                 2000.0\n",
       "Name: 10, dtype: object"
      ]
     },
     "execution_count": 231,
     "metadata": {},
     "output_type": "execute_result"
    }
   ],
   "source": [
    "anime_data.loc[10]"
   ]
  },
  {
   "cell_type": "code",
   "execution_count": 155,
   "id": "e2cdebc0",
   "metadata": {},
   "outputs": [],
   "source": [
    "type_set = set()\n",
    "for idx in anime_data.index:\n",
    "    type_set.add(anime_data.loc[idx, 'Type'])\n",
    "type_list = list(type_set)\n",
    "\n",
    "source_set = set()\n",
    "for idx in anime_data.index:\n",
    "    source_set.add(anime_data.loc[idx, 'Source'])\n",
    "source_list = list(source_set)"
   ]
  },
  {
   "cell_type": "code",
   "execution_count": 156,
   "id": "c8a9fbba",
   "metadata": {},
   "outputs": [],
   "source": [
    "score_type = np.zeros((anime_data['MAL_ID'].nunique(), len(type_set)))\n",
    "score_source = np.zeros((anime_data['MAL_ID'].nunique(), len(source_set)))"
   ]
  },
  {
   "cell_type": "code",
   "execution_count": 166,
   "id": "e9155d0e",
   "metadata": {},
   "outputs": [],
   "source": [
    "for idx in anime_data.index:\n",
    "    temp = anime_data.at[idx,'Type']\n",
    "    for i in range(len(type_list)):\n",
    "        if type_list[i] == temp:\n",
    "            score_type[idx,i] = 1.0"
   ]
  },
  {
   "cell_type": "code",
   "execution_count": 169,
   "id": "b8d4b8a7",
   "metadata": {},
   "outputs": [],
   "source": [
    "for idx in anime_data.index:\n",
    "    temp = anime_data.at[idx,'Source']\n",
    "    for i in range(len(source_list)):\n",
    "        if source_list[i] == temp:\n",
    "            score_source[idx,i] = 1.0"
   ]
  },
  {
   "cell_type": "code",
   "execution_count": 172,
   "id": "37bbc121",
   "metadata": {},
   "outputs": [
    {
     "data": {
      "text/plain": [
       "(12181, 15)"
      ]
     },
     "execution_count": 172,
     "metadata": {},
     "output_type": "execute_result"
    }
   ],
   "source": [
    "score_source.shape"
   ]
  },
  {
   "cell_type": "code",
   "execution_count": 173,
   "id": "b2f6c1f6",
   "metadata": {},
   "outputs": [
    {
     "data": {
      "text/plain": [
       "['Manga',\n",
       " 'Music',\n",
       " 'Book',\n",
       " 'Card game',\n",
       " '4-koma manga',\n",
       " 'Other',\n",
       " 'Novel',\n",
       " 'Visual novel',\n",
       " 'Picture book',\n",
       " 'Radio',\n",
       " 'Game',\n",
       " 'Light novel',\n",
       " 'Original',\n",
       " 'Web manga',\n",
       " 'Digital manga']"
      ]
     },
     "execution_count": 173,
     "metadata": {},
     "output_type": "execute_result"
    }
   ],
   "source": [
    "source_list"
   ]
  },
  {
   "cell_type": "code",
   "execution_count": 174,
   "id": "1f7ab82d",
   "metadata": {},
   "outputs": [
    {
     "data": {
      "text/plain": [
       "(12181, 42)"
      ]
     },
     "execution_count": 174,
     "metadata": {},
     "output_type": "execute_result"
    }
   ],
   "source": [
    "score.shape"
   ]
  },
  {
   "cell_type": "code",
   "execution_count": 175,
   "id": "4777e9a2",
   "metadata": {},
   "outputs": [
    {
     "data": {
      "text/plain": [
       "(12181, 6)"
      ]
     },
     "execution_count": 175,
     "metadata": {},
     "output_type": "execute_result"
    }
   ],
   "source": [
    "score_type.shape"
   ]
  },
  {
   "cell_type": "code",
   "execution_count": 176,
   "id": "fbab3e85",
   "metadata": {},
   "outputs": [
    {
     "data": {
      "text/plain": [
       "(12181, 15)"
      ]
     },
     "execution_count": 176,
     "metadata": {},
     "output_type": "execute_result"
    }
   ],
   "source": [
    "score_source.shape"
   ]
  },
  {
   "cell_type": "code",
   "execution_count": 177,
   "id": "3947c709",
   "metadata": {},
   "outputs": [],
   "source": [
    "score_full = np.hstack([score, score_type, score_source])"
   ]
  },
  {
   "cell_type": "code",
   "execution_count": 178,
   "id": "77a894d5",
   "metadata": {},
   "outputs": [
    {
     "data": {
      "text/plain": [
       "(12181, 63)"
      ]
     },
     "execution_count": 178,
     "metadata": {},
     "output_type": "execute_result"
    }
   ],
   "source": [
    "score_full.shape"
   ]
  },
  {
   "cell_type": "code",
   "execution_count": 209,
   "id": "3ef54800",
   "metadata": {},
   "outputs": [],
   "source": [
    "cosine_similar_full = cosine_similarity(score_full, score_full)\n",
    "for i in range(len(cosine_similar_full)):\n",
    "    cosine_similar_full[i,i] = 1.0"
   ]
  },
  {
   "cell_type": "code",
   "execution_count": 210,
   "id": "6fd8d927",
   "metadata": {},
   "outputs": [],
   "source": [
    "cosine_similar_full_df = pd.DataFrame(cosine_similar_full)"
   ]
  },
  {
   "cell_type": "code",
   "execution_count": 257,
   "id": "4ea3cebc",
   "metadata": {},
   "outputs": [
    {
     "name": "stdout",
     "output_type": "stream",
     "text": [
      "                                                    Name  MAL_ID\n",
      "4352                                          Medaka Box   11761\n",
      "131                                          Shaman King     154\n",
      "8010                     Boruto: Naruto Next Generations   34566\n",
      "3212                Dragon Ball Z: Atsumare! Gokuu World    6714\n",
      "203                                       Rekka no Honoo     238\n",
      "5518                              Dragon Ball Kai (2014)   22777\n",
      "8268                     Boruto: Jump Festa 2016 Special   35072\n",
      "1274                              Katekyo Hitman Reborn!    1604\n",
      "1366                                  Naruto: Shippuuden    1735\n",
      "1178                                          D.Gray-man    1482\n",
      "3035                                     Dragon Ball Kai    6033\n",
      "233                                               Bleach     269\n",
      "684                                        Dragon Ball Z     813\n",
      "428                                      Ueki no Housoku     479\n",
      "1329                                        Duel Masters    1685\n",
      "11700                                 Shaman King (2021)   42205\n",
      "824    Dragon Ball GT: Gokuu Gaiden! Yuuki no Akashi ...     987\n",
      "6457                                   Dragon Ball Super   30694\n",
      "762    Dragon Ball Z Movie 11: Super Senshi Gekiha!! ...     904\n",
      "189                                          Dragon Ball     223\n"
     ]
    }
   ],
   "source": [
    "ani_rec_genre(anime_data, cosine_similar_full_df, 'Naruto')"
   ]
  },
  {
   "cell_type": "code",
   "execution_count": 258,
   "id": "dc70e979",
   "metadata": {},
   "outputs": [
    {
     "name": "stdout",
     "output_type": "stream",
     "text": [
      "                                                   Name  MAL_ID\n",
      "4611         Naruto: Shippuuden Movie 6 - Road to Ninja   13667\n",
      "6980  Boruto: Naruto the Movie - Naruto ga Hokage ni...   32365\n",
      "5509             Dragon Ball Z: Summer Vacation Special   22695\n",
      "203                                      Rekka no Honoo     238\n",
      "3212               Dragon Ball Z: Atsumare! Gokuu World    6714\n",
      "8268                    Boruto: Jump Festa 2016 Special   35072\n",
      "5518                             Dragon Ball Kai (2014)   22777\n",
      "4176  Naruto Soyokazeden Movie: Naruto to Mashin to ...   10659\n",
      "533   Naruto: Takigakure no Shitou - Ore ga Eiyuu Da...     594\n",
      "4181  Naruto: Honoo no Chuunin Shiken! Naruto vs. Ko...   10686\n",
      "1366                                 Naruto: Shippuuden    1735\n",
      "3035                                    Dragon Ball Kai    6033\n",
      "3114  Naruto: Shippuuden Movie 3 - Hi no Ishi wo Tsu...    6325\n",
      "684                                       Dragon Ball Z     813\n",
      "5806            Dragon Ball Z Movie 15: Fukkatsu no \"F\"   25389\n",
      "6069                           Boruto: Naruto the Movie   28755\n",
      "3574        Naruto: Shippuuden Movie 4 - The Lost Tower    8246\n",
      "824   Dragon Ball GT: Gokuu Gaiden! Yuuki no Akashi ...     987\n",
      "6457                                  Dragon Ball Super   30694\n",
      "762   Dragon Ball Z Movie 11: Super Senshi Gekiha!! ...     904\n"
     ]
    }
   ],
   "source": [
    "ani_rec_genre(anime_data, cosine_similar_df, 'Naruto')"
   ]
  },
  {
   "cell_type": "code",
   "execution_count": null,
   "id": "acc5435b",
   "metadata": {},
   "outputs": [],
   "source": []
  }
 ],
 "metadata": {
  "kernelspec": {
   "display_name": "tf_py3.9",
   "language": "python",
   "name": "tf_py3.9"
  },
  "language_info": {
   "codemirror_mode": {
    "name": "ipython",
    "version": 3
   },
   "file_extension": ".py",
   "mimetype": "text/x-python",
   "name": "python",
   "nbconvert_exporter": "python",
   "pygments_lexer": "ipython3",
   "version": "3.9.10"
  }
 },
 "nbformat": 4,
 "nbformat_minor": 5
}

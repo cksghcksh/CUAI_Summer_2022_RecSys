{
  "nbformat": 4,
  "nbformat_minor": 0,
  "metadata": {
    "colab": {
      "name": "content_based(char_description & anime_synopsis).ipynb",
      "provenance": [],
      "collapsed_sections": [
        "IH-iJmztPoC1"
      ]
    },
    "kernelspec": {
      "name": "python3",
      "display_name": "Python 3"
    },
    "language_info": {
      "name": "python"
    }
  },
  "cells": [
    {
      "cell_type": "markdown",
      "source": [
        "# Anime character description \n",
        "\n",
        "- 애니메이션 캐릭터 dataset에서 description 추출\n",
        "- Description 문자열 벡터화\n",
        "- 최애캐와 다른 모든 캐릭터 description 사이 코사인 유사도 추출\n",
        "- 유사도 기반 top 20 characters 추천"
      ],
      "metadata": {
        "id": "bZhb4sjPPYvW"
      }
    },
    {
      "cell_type": "code",
      "execution_count": 1,
      "metadata": {
        "id": "xhTvpmBKLE4x"
      },
      "outputs": [],
      "source": [
        "import numpy as np\n",
        "import pandas as pd\n",
        "from sklearn.feature_extraction.text import TfidfVectorizer\n",
        "from sklearn.metrics.pairwise import linear_kernel"
      ]
    },
    {
      "cell_type": "code",
      "source": [
        "characters_data = pd.read_csv('/content/drive/MyDrive/CUAI_summer/character_full.csv')"
      ],
      "metadata": {
        "id": "fZVxqPJsMev9"
      },
      "execution_count": 2,
      "outputs": []
    },
    {
      "cell_type": "code",
      "source": [
        "characters_data.head(3)"
      ],
      "metadata": {
        "colab": {
          "base_uri": "https://localhost:8080/",
          "height": 220
        },
        "id": "FKAz5JymMlMu",
        "outputId": "c2be8a18-52fd-4b99-d120-7a05516ef391"
      },
      "execution_count": 3,
      "outputs": [
        {
          "output_type": "execute_result",
          "data": {
            "text/plain": [
              "    ID        CharName Gender HairColor  \\\n",
              "0    0               L   Male     Black   \n",
              "1   98  Kakashi HATAKE   Male      Grey   \n",
              "2  348    Light YAGAMI   Male     Brown   \n",
              "\n",
              "                                                Tags  \\\n",
              "0  Analytical,Barefoot,Detectives,EyeBags,SweetTooth   \n",
              "1  Adults,Anti-GravityHair,Beastmasters,ExoticEye...   \n",
              "2  Analytical,BigEgo,Charismatic,GodComplex,Manip...   \n",
              "\n",
              "                                         Description  \\\n",
              "0  Secretive, meticulous and cunning, L's desire ...   \n",
              "1  Kakashi is a jounin ninja from Konoha who is k...   \n",
              "2  Armed with the power of Ryuk's Death Note, Lig...   \n",
              "\n",
              "                                                 url   MAL_ID  \n",
              "0  https://www.anime-planet.com/characters/l-deat...   1535.0  \n",
              "1  https://www.anime-planet.com/characters/kakash...  34566.0  \n",
              "2  https://www.anime-planet.com/characters/light-...   1535.0  "
            ],
            "text/html": [
              "\n",
              "  <div id=\"df-ef34bc2b-0a97-4b31-ab25-94dc0b9325e8\">\n",
              "    <div class=\"colab-df-container\">\n",
              "      <div>\n",
              "<style scoped>\n",
              "    .dataframe tbody tr th:only-of-type {\n",
              "        vertical-align: middle;\n",
              "    }\n",
              "\n",
              "    .dataframe tbody tr th {\n",
              "        vertical-align: top;\n",
              "    }\n",
              "\n",
              "    .dataframe thead th {\n",
              "        text-align: right;\n",
              "    }\n",
              "</style>\n",
              "<table border=\"1\" class=\"dataframe\">\n",
              "  <thead>\n",
              "    <tr style=\"text-align: right;\">\n",
              "      <th></th>\n",
              "      <th>ID</th>\n",
              "      <th>CharName</th>\n",
              "      <th>Gender</th>\n",
              "      <th>HairColor</th>\n",
              "      <th>Tags</th>\n",
              "      <th>Description</th>\n",
              "      <th>url</th>\n",
              "      <th>MAL_ID</th>\n",
              "    </tr>\n",
              "  </thead>\n",
              "  <tbody>\n",
              "    <tr>\n",
              "      <th>0</th>\n",
              "      <td>0</td>\n",
              "      <td>L</td>\n",
              "      <td>Male</td>\n",
              "      <td>Black</td>\n",
              "      <td>Analytical,Barefoot,Detectives,EyeBags,SweetTooth</td>\n",
              "      <td>Secretive, meticulous and cunning, L's desire ...</td>\n",
              "      <td>https://www.anime-planet.com/characters/l-deat...</td>\n",
              "      <td>1535.0</td>\n",
              "    </tr>\n",
              "    <tr>\n",
              "      <th>1</th>\n",
              "      <td>98</td>\n",
              "      <td>Kakashi HATAKE</td>\n",
              "      <td>Male</td>\n",
              "      <td>Grey</td>\n",
              "      <td>Adults,Anti-GravityHair,Beastmasters,ExoticEye...</td>\n",
              "      <td>Kakashi is a jounin ninja from Konoha who is k...</td>\n",
              "      <td>https://www.anime-planet.com/characters/kakash...</td>\n",
              "      <td>34566.0</td>\n",
              "    </tr>\n",
              "    <tr>\n",
              "      <th>2</th>\n",
              "      <td>348</td>\n",
              "      <td>Light YAGAMI</td>\n",
              "      <td>Male</td>\n",
              "      <td>Brown</td>\n",
              "      <td>Analytical,BigEgo,Charismatic,GodComplex,Manip...</td>\n",
              "      <td>Armed with the power of Ryuk's Death Note, Lig...</td>\n",
              "      <td>https://www.anime-planet.com/characters/light-...</td>\n",
              "      <td>1535.0</td>\n",
              "    </tr>\n",
              "  </tbody>\n",
              "</table>\n",
              "</div>\n",
              "      <button class=\"colab-df-convert\" onclick=\"convertToInteractive('df-ef34bc2b-0a97-4b31-ab25-94dc0b9325e8')\"\n",
              "              title=\"Convert this dataframe to an interactive table.\"\n",
              "              style=\"display:none;\">\n",
              "        \n",
              "  <svg xmlns=\"http://www.w3.org/2000/svg\" height=\"24px\"viewBox=\"0 0 24 24\"\n",
              "       width=\"24px\">\n",
              "    <path d=\"M0 0h24v24H0V0z\" fill=\"none\"/>\n",
              "    <path d=\"M18.56 5.44l.94 2.06.94-2.06 2.06-.94-2.06-.94-.94-2.06-.94 2.06-2.06.94zm-11 1L8.5 8.5l.94-2.06 2.06-.94-2.06-.94L8.5 2.5l-.94 2.06-2.06.94zm10 10l.94 2.06.94-2.06 2.06-.94-2.06-.94-.94-2.06-.94 2.06-2.06.94z\"/><path d=\"M17.41 7.96l-1.37-1.37c-.4-.4-.92-.59-1.43-.59-.52 0-1.04.2-1.43.59L10.3 9.45l-7.72 7.72c-.78.78-.78 2.05 0 2.83L4 21.41c.39.39.9.59 1.41.59.51 0 1.02-.2 1.41-.59l7.78-7.78 2.81-2.81c.8-.78.8-2.07 0-2.86zM5.41 20L4 18.59l7.72-7.72 1.47 1.35L5.41 20z\"/>\n",
              "  </svg>\n",
              "      </button>\n",
              "      \n",
              "  <style>\n",
              "    .colab-df-container {\n",
              "      display:flex;\n",
              "      flex-wrap:wrap;\n",
              "      gap: 12px;\n",
              "    }\n",
              "\n",
              "    .colab-df-convert {\n",
              "      background-color: #E8F0FE;\n",
              "      border: none;\n",
              "      border-radius: 50%;\n",
              "      cursor: pointer;\n",
              "      display: none;\n",
              "      fill: #1967D2;\n",
              "      height: 32px;\n",
              "      padding: 0 0 0 0;\n",
              "      width: 32px;\n",
              "    }\n",
              "\n",
              "    .colab-df-convert:hover {\n",
              "      background-color: #E2EBFA;\n",
              "      box-shadow: 0px 1px 2px rgba(60, 64, 67, 0.3), 0px 1px 3px 1px rgba(60, 64, 67, 0.15);\n",
              "      fill: #174EA6;\n",
              "    }\n",
              "\n",
              "    [theme=dark] .colab-df-convert {\n",
              "      background-color: #3B4455;\n",
              "      fill: #D2E3FC;\n",
              "    }\n",
              "\n",
              "    [theme=dark] .colab-df-convert:hover {\n",
              "      background-color: #434B5C;\n",
              "      box-shadow: 0px 1px 3px 1px rgba(0, 0, 0, 0.15);\n",
              "      filter: drop-shadow(0px 1px 2px rgba(0, 0, 0, 0.3));\n",
              "      fill: #FFFFFF;\n",
              "    }\n",
              "  </style>\n",
              "\n",
              "      <script>\n",
              "        const buttonEl =\n",
              "          document.querySelector('#df-ef34bc2b-0a97-4b31-ab25-94dc0b9325e8 button.colab-df-convert');\n",
              "        buttonEl.style.display =\n",
              "          google.colab.kernel.accessAllowed ? 'block' : 'none';\n",
              "\n",
              "        async function convertToInteractive(key) {\n",
              "          const element = document.querySelector('#df-ef34bc2b-0a97-4b31-ab25-94dc0b9325e8');\n",
              "          const dataTable =\n",
              "            await google.colab.kernel.invokeFunction('convertToInteractive',\n",
              "                                                     [key], {});\n",
              "          if (!dataTable) return;\n",
              "\n",
              "          const docLinkHtml = 'Like what you see? Visit the ' +\n",
              "            '<a target=\"_blank\" href=https://colab.research.google.com/notebooks/data_table.ipynb>data table notebook</a>'\n",
              "            + ' to learn more about interactive tables.';\n",
              "          element.innerHTML = '';\n",
              "          dataTable['output_type'] = 'display_data';\n",
              "          await google.colab.output.renderOutput(dataTable, element);\n",
              "          const docLink = document.createElement('div');\n",
              "          docLink.innerHTML = docLinkHtml;\n",
              "          element.appendChild(docLink);\n",
              "        }\n",
              "      </script>\n",
              "    </div>\n",
              "  </div>\n",
              "  "
            ]
          },
          "metadata": {},
          "execution_count": 3
        }
      ]
    },
    {
      "cell_type": "code",
      "source": [
        "characters_data['Description'].head(3)"
      ],
      "metadata": {
        "colab": {
          "base_uri": "https://localhost:8080/"
        },
        "id": "xy-4CcbxMsT9",
        "outputId": "7893aa2e-817e-4c0d-a48d-c5cb7b27348e"
      },
      "execution_count": 4,
      "outputs": [
        {
          "output_type": "execute_result",
          "data": {
            "text/plain": [
              "0    Secretive, meticulous and cunning, L's desire ...\n",
              "1    Kakashi is a jounin ninja from Konoha who is k...\n",
              "2    Armed with the power of Ryuk's Death Note, Lig...\n",
              "Name: Description, dtype: object"
            ]
          },
          "metadata": {},
          "execution_count": 4
        }
      ]
    },
    {
      "cell_type": "code",
      "source": [
        "tfidf = TfidfVectorizer(stop_words='english')    # 객체 지정. 'the', 'a' 같은 stop words 제거\n",
        "\n",
        "characters_data['Description'] = characters_data['Description'].fillna('')    # NaN은 공백문자열로 변환\n",
        "\n",
        "tfidf_matrix = tfidf.fit_transform(characters_data['Description'])    # 구축\n",
        "\n",
        "tfidf_matrix.shape"
      ],
      "metadata": {
        "colab": {
          "base_uri": "https://localhost:8080/"
        },
        "id": "mD_5-W1zMzhq",
        "outputId": "51bc2697-251c-4202-e5de-afb2e267e80c"
      },
      "execution_count": 5,
      "outputs": [
        {
          "output_type": "execute_result",
          "data": {
            "text/plain": [
              "(13888, 9396)"
            ]
          },
          "metadata": {},
          "execution_count": 5
        }
      ]
    },
    {
      "cell_type": "code",
      "source": [
        "from sklearn.metrics.pairwise import linear_kernel\n",
        "\n",
        "cosine_sim = linear_kernel(tfidf_matrix, tfidf_matrix)"
      ],
      "metadata": {
        "id": "qrgP8SOBNBDT"
      },
      "execution_count": 6,
      "outputs": []
    },
    {
      "cell_type": "code",
      "source": [
        "indices = pd.Series(characters_data.index, index = characters_data['CharName']).drop_duplicates()"
      ],
      "metadata": {
        "id": "QXu6XL6ZNEKs"
      },
      "execution_count": 7,
      "outputs": []
    },
    {
      "cell_type": "code",
      "source": [
        "def get_recommendations(CharName, cosine_sim=cosine_sim):\n",
        "\n",
        "  # character name에 해당하는 character의 index 불러오기\n",
        "  idx = indices[CharName]\n",
        "\n",
        "  # idx character와 모든 character 사이 코사인 유사도 리스트 생성\n",
        "  sim_scores = list(enumerate(cosine_sim[idx]))\n",
        "\n",
        "  # 코사인 유사도 기준 정렬\n",
        "  sim_scores = sorted(sim_scores, key = lambda x: x[1], reverse = True)\n",
        "\n",
        "  # 가장 유사한 점수 10개 반환\n",
        "  sim_scores = sim_scores[1:21]\n",
        "\n",
        "  # character의 인덱스 반환\n",
        "  char_indices = [i[0] for i in sim_scores]\n",
        "\n",
        "  # top 20 character 반환\n",
        "  return characters_data['CharName'].iloc[char_indices], sim_scores"
      ],
      "metadata": {
        "id": "KtG2kKQ6NWFQ"
      },
      "execution_count": 8,
      "outputs": []
    },
    {
      "cell_type": "code",
      "source": [
        "get_recommendations('Light YAGAMI')"
      ],
      "metadata": {
        "colab": {
          "base_uri": "https://localhost:8080/"
        },
        "id": "Yoi9M8huNs1T",
        "outputId": "5c580be3-e8f0-41f5-c8a6-42afb42615d8"
      },
      "execution_count": 9,
      "outputs": [
        {
          "output_type": "execute_result",
          "data": {
            "text/plain": [
              "(3050       Sachiko YAGAMI\n",
              " 599                Kizaru\n",
              " 233         Ritsu TAINAKA\n",
              " 5387       Kazunobu CHIBA\n",
              " 2233          Johnny GILL\n",
              " 1433        Heiji HATTORI\n",
              " 243      Tsumugi KOTOBUKI\n",
              " 445      Silvers RAYLEIGH\n",
              " 1534               Sosuke\n",
              " 10962            Cybersix\n",
              " 2558                Dorry\n",
              " 2058       Chitose HIBIYA\n",
              " 117           Mio AKIYAMA\n",
              " 2219                Genzo\n",
              " 161          Azusa NAKANO\n",
              " 803       Pesche GUATICHE\n",
              " 7632            The Raven\n",
              " 8446        Heizo HATTORI\n",
              " 294        Kagami HIIRAGI\n",
              " 3195         Yuusaku KUDO\n",
              " Name: CharName, dtype: object,\n",
              " [(3050, 0.2292060802179585),\n",
              "  (599, 0.14666905552538628),\n",
              "  (233, 0.11982614856625073),\n",
              "  (5387, 0.11778749919925739),\n",
              "  (2233, 0.10582935961816688),\n",
              "  (1433, 0.0988748791891399),\n",
              "  (243, 0.0979099322900219),\n",
              "  (445, 0.0954233418060913),\n",
              "  (1534, 0.08921436100748942),\n",
              "  (10962, 0.0846446325776154),\n",
              "  (2558, 0.07728473204253333),\n",
              "  (2058, 0.07707414017698819),\n",
              "  (117, 0.07670302981368075),\n",
              "  (2219, 0.07627830515501613),\n",
              "  (161, 0.07600062423211591),\n",
              "  (803, 0.07514793969614747),\n",
              "  (7632, 0.07314776626845162),\n",
              "  (8446, 0.06776865373460181),\n",
              "  (294, 0.06695253045928601),\n",
              "  (3195, 0.06544633308216624)])"
            ]
          },
          "metadata": {},
          "execution_count": 9
        }
      ]
    },
    {
      "cell_type": "markdown",
      "source": [
        "# Anime Synopsis \n",
        "\n",
        "- Anime dataset에서 synopsis 추출\n",
        "- Synopsis 문자열 벡터화\n",
        "- 최애 Anime와 다른 모든 Anime description 사이 코사인 유사도 추출\n",
        "- 유사도 기반 top 20 Anime 추천"
      ],
      "metadata": {
        "id": "IH-iJmztPoC1"
      }
    },
    {
      "cell_type": "code",
      "source": [
        "anime_data = pd.read_csv('/content/drive/MyDrive/CUAI_summer/anime_full.csv')"
      ],
      "metadata": {
        "id": "6ss3xjZfN2_V"
      },
      "execution_count": 10,
      "outputs": []
    },
    {
      "cell_type": "code",
      "source": [
        "anime_data.head(3)"
      ],
      "metadata": {
        "colab": {
          "base_uri": "https://localhost:8080/",
          "height": 427
        },
        "id": "99U95CIfPVUW",
        "outputId": "06c3d86d-faf7-482b-ca1d-8c2eba0e9bbf"
      },
      "execution_count": 11,
      "outputs": [
        {
          "output_type": "execute_result",
          "data": {
            "text/plain": [
              "   MAL_ID                             Name  \\\n",
              "0       1                     Cowboy Bebop   \n",
              "1       5  Cowboy Bebop: Tengoku no Tobira   \n",
              "2       6                           Trigun   \n",
              "\n",
              "                                         Genres  \\\n",
              "0    Action,Adventure,Comedy,Drama,Sci-Fi,Space   \n",
              "1             Action,Drama,Mystery,Sci-Fi,Space   \n",
              "2  Action,Sci-Fi,Adventure,Comedy,Drama,Shounen   \n",
              "\n",
              "                                            synopsis   Type    Source    Year  \n",
              "0  In the year 2071, humanity has colonized sever...     TV  Original  1990.0  \n",
              "1  other day, another bounty—such is the life of ...  Movie  Original  2000.0  \n",
              "2  Vash the Stampede is the man with a $$60,000,0...     TV     Manga  1990.0  "
            ],
            "text/html": [
              "\n",
              "  <div id=\"df-81ddaf37-fd8a-4160-a534-6f386c9c0c9a\">\n",
              "    <div class=\"colab-df-container\">\n",
              "      <div>\n",
              "<style scoped>\n",
              "    .dataframe tbody tr th:only-of-type {\n",
              "        vertical-align: middle;\n",
              "    }\n",
              "\n",
              "    .dataframe tbody tr th {\n",
              "        vertical-align: top;\n",
              "    }\n",
              "\n",
              "    .dataframe thead th {\n",
              "        text-align: right;\n",
              "    }\n",
              "</style>\n",
              "<table border=\"1\" class=\"dataframe\">\n",
              "  <thead>\n",
              "    <tr style=\"text-align: right;\">\n",
              "      <th></th>\n",
              "      <th>MAL_ID</th>\n",
              "      <th>Name</th>\n",
              "      <th>Genres</th>\n",
              "      <th>synopsis</th>\n",
              "      <th>Type</th>\n",
              "      <th>Source</th>\n",
              "      <th>Year</th>\n",
              "    </tr>\n",
              "  </thead>\n",
              "  <tbody>\n",
              "    <tr>\n",
              "      <th>0</th>\n",
              "      <td>1</td>\n",
              "      <td>Cowboy Bebop</td>\n",
              "      <td>Action,Adventure,Comedy,Drama,Sci-Fi,Space</td>\n",
              "      <td>In the year 2071, humanity has colonized sever...</td>\n",
              "      <td>TV</td>\n",
              "      <td>Original</td>\n",
              "      <td>1990.0</td>\n",
              "    </tr>\n",
              "    <tr>\n",
              "      <th>1</th>\n",
              "      <td>5</td>\n",
              "      <td>Cowboy Bebop: Tengoku no Tobira</td>\n",
              "      <td>Action,Drama,Mystery,Sci-Fi,Space</td>\n",
              "      <td>other day, another bounty—such is the life of ...</td>\n",
              "      <td>Movie</td>\n",
              "      <td>Original</td>\n",
              "      <td>2000.0</td>\n",
              "    </tr>\n",
              "    <tr>\n",
              "      <th>2</th>\n",
              "      <td>6</td>\n",
              "      <td>Trigun</td>\n",
              "      <td>Action,Sci-Fi,Adventure,Comedy,Drama,Shounen</td>\n",
              "      <td>Vash the Stampede is the man with a $$60,000,0...</td>\n",
              "      <td>TV</td>\n",
              "      <td>Manga</td>\n",
              "      <td>1990.0</td>\n",
              "    </tr>\n",
              "  </tbody>\n",
              "</table>\n",
              "</div>\n",
              "      <button class=\"colab-df-convert\" onclick=\"convertToInteractive('df-81ddaf37-fd8a-4160-a534-6f386c9c0c9a')\"\n",
              "              title=\"Convert this dataframe to an interactive table.\"\n",
              "              style=\"display:none;\">\n",
              "        \n",
              "  <svg xmlns=\"http://www.w3.org/2000/svg\" height=\"24px\"viewBox=\"0 0 24 24\"\n",
              "       width=\"24px\">\n",
              "    <path d=\"M0 0h24v24H0V0z\" fill=\"none\"/>\n",
              "    <path d=\"M18.56 5.44l.94 2.06.94-2.06 2.06-.94-2.06-.94-.94-2.06-.94 2.06-2.06.94zm-11 1L8.5 8.5l.94-2.06 2.06-.94-2.06-.94L8.5 2.5l-.94 2.06-2.06.94zm10 10l.94 2.06.94-2.06 2.06-.94-2.06-.94-.94-2.06-.94 2.06-2.06.94z\"/><path d=\"M17.41 7.96l-1.37-1.37c-.4-.4-.92-.59-1.43-.59-.52 0-1.04.2-1.43.59L10.3 9.45l-7.72 7.72c-.78.78-.78 2.05 0 2.83L4 21.41c.39.39.9.59 1.41.59.51 0 1.02-.2 1.41-.59l7.78-7.78 2.81-2.81c.8-.78.8-2.07 0-2.86zM5.41 20L4 18.59l7.72-7.72 1.47 1.35L5.41 20z\"/>\n",
              "  </svg>\n",
              "      </button>\n",
              "      \n",
              "  <style>\n",
              "    .colab-df-container {\n",
              "      display:flex;\n",
              "      flex-wrap:wrap;\n",
              "      gap: 12px;\n",
              "    }\n",
              "\n",
              "    .colab-df-convert {\n",
              "      background-color: #E8F0FE;\n",
              "      border: none;\n",
              "      border-radius: 50%;\n",
              "      cursor: pointer;\n",
              "      display: none;\n",
              "      fill: #1967D2;\n",
              "      height: 32px;\n",
              "      padding: 0 0 0 0;\n",
              "      width: 32px;\n",
              "    }\n",
              "\n",
              "    .colab-df-convert:hover {\n",
              "      background-color: #E2EBFA;\n",
              "      box-shadow: 0px 1px 2px rgba(60, 64, 67, 0.3), 0px 1px 3px 1px rgba(60, 64, 67, 0.15);\n",
              "      fill: #174EA6;\n",
              "    }\n",
              "\n",
              "    [theme=dark] .colab-df-convert {\n",
              "      background-color: #3B4455;\n",
              "      fill: #D2E3FC;\n",
              "    }\n",
              "\n",
              "    [theme=dark] .colab-df-convert:hover {\n",
              "      background-color: #434B5C;\n",
              "      box-shadow: 0px 1px 3px 1px rgba(0, 0, 0, 0.15);\n",
              "      filter: drop-shadow(0px 1px 2px rgba(0, 0, 0, 0.3));\n",
              "      fill: #FFFFFF;\n",
              "    }\n",
              "  </style>\n",
              "\n",
              "      <script>\n",
              "        const buttonEl =\n",
              "          document.querySelector('#df-81ddaf37-fd8a-4160-a534-6f386c9c0c9a button.colab-df-convert');\n",
              "        buttonEl.style.display =\n",
              "          google.colab.kernel.accessAllowed ? 'block' : 'none';\n",
              "\n",
              "        async function convertToInteractive(key) {\n",
              "          const element = document.querySelector('#df-81ddaf37-fd8a-4160-a534-6f386c9c0c9a');\n",
              "          const dataTable =\n",
              "            await google.colab.kernel.invokeFunction('convertToInteractive',\n",
              "                                                     [key], {});\n",
              "          if (!dataTable) return;\n",
              "\n",
              "          const docLinkHtml = 'Like what you see? Visit the ' +\n",
              "            '<a target=\"_blank\" href=https://colab.research.google.com/notebooks/data_table.ipynb>data table notebook</a>'\n",
              "            + ' to learn more about interactive tables.';\n",
              "          element.innerHTML = '';\n",
              "          dataTable['output_type'] = 'display_data';\n",
              "          await google.colab.output.renderOutput(dataTable, element);\n",
              "          const docLink = document.createElement('div');\n",
              "          docLink.innerHTML = docLinkHtml;\n",
              "          element.appendChild(docLink);\n",
              "        }\n",
              "      </script>\n",
              "    </div>\n",
              "  </div>\n",
              "  "
            ]
          },
          "metadata": {},
          "execution_count": 11
        }
      ]
    },
    {
      "cell_type": "code",
      "source": [
        "anime_data['synopsis'].head(3)"
      ],
      "metadata": {
        "colab": {
          "base_uri": "https://localhost:8080/"
        },
        "id": "Y3QN7t2mQtbX",
        "outputId": "6ff9d40f-a39c-47d9-bcfb-71a6fd0ca19f"
      },
      "execution_count": 12,
      "outputs": [
        {
          "output_type": "execute_result",
          "data": {
            "text/plain": [
              "0    In the year 2071, humanity has colonized sever...\n",
              "1    other day, another bounty—such is the life of ...\n",
              "2    Vash the Stampede is the man with a $$60,000,0...\n",
              "Name: synopsis, dtype: object"
            ]
          },
          "metadata": {},
          "execution_count": 12
        }
      ]
    },
    {
      "cell_type": "code",
      "source": [
        "tfidf = TfidfVectorizer(stop_words='english')    # 객체 지정. 'the', 'a' 같은 stop words 제거\n",
        "\n",
        "anime_data['synopsis'] = anime_data['synopsis'].fillna('')    # NaN은 공백문자열로 변환\n",
        "\n",
        "tfidf_matrix2 = tfidf.fit_transform(anime_data['synopsis'])    # 구축\n",
        "\n",
        "tfidf_matrix2.shape"
      ],
      "metadata": {
        "colab": {
          "base_uri": "https://localhost:8080/"
        },
        "id": "_Kg6RLfYQ22m",
        "outputId": "6aef0579-64b8-46fd-eea8-dc1db8d1d949"
      },
      "execution_count": 13,
      "outputs": [
        {
          "output_type": "execute_result",
          "data": {
            "text/plain": [
              "(12181, 40927)"
            ]
          },
          "metadata": {},
          "execution_count": 13
        }
      ]
    },
    {
      "cell_type": "code",
      "source": [
        "cosine_sim2 = linear_kernel(tfidf_matrix2, tfidf_matrix2)"
      ],
      "metadata": {
        "id": "yr-uiMalSG2T"
      },
      "execution_count": 14,
      "outputs": []
    },
    {
      "cell_type": "code",
      "source": [
        "indices2 = pd.Series(anime_data.index, index = anime_data['Name']).drop_duplicates()"
      ],
      "metadata": {
        "id": "HxExip-YSUW0"
      },
      "execution_count": 15,
      "outputs": []
    },
    {
      "cell_type": "code",
      "source": [
        "def get_recommendations_anime(Name, cosine_sim=cosine_sim2):\n",
        "\n",
        "  # Anime name에 해당하는 Anime의 index 불러오기\n",
        "  idx2 = indices2[Name]\n",
        "\n",
        "  # idx Anime와 모든 Anime 사이 코사인 유사도 리스트 생성\n",
        "  sim_scores2 = list(enumerate(cosine_sim2[idx2]))\n",
        "\n",
        "  # 코사인 유사도 기준 정렬\n",
        "  sim_scores2 = sorted(sim_scores2, key = lambda x: x[1], reverse = True)\n",
        "\n",
        "  # 가장 유사한 점수 20개 반환\n",
        "  sim_scores2 = sim_scores2[1:21]\n",
        "\n",
        "  # character의 인덱스 반환\n",
        "  anime_indices2 = [i[0] for i in sim_scores2]\n",
        "\n",
        "  # top 20 character 반환\n",
        "  return [anime_data['Name'].iloc[anime_indices2], sim_scores2]"
      ],
      "metadata": {
        "id": "_TodPbqwSapU"
      },
      "execution_count": 16,
      "outputs": []
    },
    {
      "cell_type": "code",
      "source": [
        "get_recommendations_anime('Death Note')"
      ],
      "metadata": {
        "colab": {
          "base_uri": "https://localhost:8080/"
        },
        "id": "nQ5Rzog7S_WW",
        "outputId": "33f0330b-0515-4239-85bf-fb6c02fafb1f"
      },
      "execution_count": 17,
      "outputs": [
        {
          "output_type": "execute_result",
          "data": {
            "text/plain": [
              "[2106                          Death Note: Rewrite\n",
              " 2343                                   Soul Eater\n",
              " 668                          Shinigami no Ballad.\n",
              " 1463                   YAT Anshin! Uchuu Ryokou 2\n",
              " 2249                               Kite Liberator\n",
              " 8717                           Dia Horizon (Kabu)\n",
              " 11864      Nissan Note x The World of Golden Eggs\n",
              " 494                               Yami no Matsuei\n",
              " 651                  Bleach: Memories in the Rain\n",
              " 1093                       Yami no Shihosha Judge\n",
              " 5728                             Ai Tenchi Muyou!\n",
              " 1800                                  Zombie-Loan\n",
              " 9257              Pochitto Hatsumei: Pikachin-Kit\n",
              " 6575     Persona 3 the Movie 4: Winter of Rebirth\n",
              " 9787                                       Sketch\n",
              " 3407         Onegai☆Teacher: Marie, Ai no Gekijou\n",
              " 8068                 Owara Nai Chinkonka wo Utaou\n",
              " 3575                   Bleach Movie 4: Jigoku-hen\n",
              " 340                                         Gantz\n",
              " 4064                       Da Yu Hai Tang (Movie)\n",
              " Name: Name, dtype: object,\n",
              " [(2106, 0.25828638642772195),\n",
              "  (2343, 0.18600003746388552),\n",
              "  (668, 0.15998514011412468),\n",
              "  (1463, 0.15811070114092504),\n",
              "  (2249, 0.15692443867896028),\n",
              "  (8717, 0.15614628703842687),\n",
              "  (11864, 0.15475615891855832),\n",
              "  (494, 0.14392136517554266),\n",
              "  (651, 0.14114913243958271),\n",
              "  (1093, 0.13677763130255896),\n",
              "  (5728, 0.1334155991855295),\n",
              "  (1800, 0.12266500747593469),\n",
              "  (9257, 0.11939797770239799),\n",
              "  (6575, 0.11735229660513277),\n",
              "  (9787, 0.11670570161113324),\n",
              "  (3407, 0.10557963606796873),\n",
              "  (8068, 0.10470700669803028),\n",
              "  (3575, 0.1014139544546163),\n",
              "  (340, 0.09943219558205509),\n",
              "  (4064, 0.09907851475565985)]]"
            ]
          },
          "metadata": {},
          "execution_count": 17
        }
      ]
    },
    {
      "cell_type": "markdown",
      "source": [
        "#Character Recommender\n",
        "#Anime Recommender"
      ],
      "metadata": {
        "id": "PjklzL1DU-FO"
      }
    },
    {
      "cell_type": "code",
      "source": [
        "get_recommendations('Light YAGAMI')"
      ],
      "metadata": {
        "colab": {
          "base_uri": "https://localhost:8080/"
        },
        "id": "LMrwQK3WU1ys",
        "outputId": "c23893d0-c3c6-4582-e0ed-4b23e5e26128"
      },
      "execution_count": 18,
      "outputs": [
        {
          "output_type": "execute_result",
          "data": {
            "text/plain": [
              "(3050       Sachiko YAGAMI\n",
              " 599                Kizaru\n",
              " 233         Ritsu TAINAKA\n",
              " 5387       Kazunobu CHIBA\n",
              " 2233          Johnny GILL\n",
              " 1433        Heiji HATTORI\n",
              " 243      Tsumugi KOTOBUKI\n",
              " 445      Silvers RAYLEIGH\n",
              " 1534               Sosuke\n",
              " 10962            Cybersix\n",
              " 2558                Dorry\n",
              " 2058       Chitose HIBIYA\n",
              " 117           Mio AKIYAMA\n",
              " 2219                Genzo\n",
              " 161          Azusa NAKANO\n",
              " 803       Pesche GUATICHE\n",
              " 7632            The Raven\n",
              " 8446        Heizo HATTORI\n",
              " 294        Kagami HIIRAGI\n",
              " 3195         Yuusaku KUDO\n",
              " Name: CharName, dtype: object,\n",
              " [(3050, 0.2292060802179585),\n",
              "  (599, 0.14666905552538628),\n",
              "  (233, 0.11982614856625073),\n",
              "  (5387, 0.11778749919925739),\n",
              "  (2233, 0.10582935961816688),\n",
              "  (1433, 0.0988748791891399),\n",
              "  (243, 0.0979099322900219),\n",
              "  (445, 0.0954233418060913),\n",
              "  (1534, 0.08921436100748942),\n",
              "  (10962, 0.0846446325776154),\n",
              "  (2558, 0.07728473204253333),\n",
              "  (2058, 0.07707414017698819),\n",
              "  (117, 0.07670302981368075),\n",
              "  (2219, 0.07627830515501613),\n",
              "  (161, 0.07600062423211591),\n",
              "  (803, 0.07514793969614747),\n",
              "  (7632, 0.07314776626845162),\n",
              "  (8446, 0.06776865373460181),\n",
              "  (294, 0.06695253045928601),\n",
              "  (3195, 0.06544633308216624)])"
            ]
          },
          "metadata": {},
          "execution_count": 18
        }
      ]
    },
    {
      "cell_type": "code",
      "source": [
        "get_recommendations_anime('Death Note')"
      ],
      "metadata": {
        "colab": {
          "base_uri": "https://localhost:8080/"
        },
        "id": "W4U4C1azVk7r",
        "outputId": "3d6859b3-a171-4e77-c656-de4ad5c3e743"
      },
      "execution_count": 19,
      "outputs": [
        {
          "output_type": "execute_result",
          "data": {
            "text/plain": [
              "[2106                          Death Note: Rewrite\n",
              " 2343                                   Soul Eater\n",
              " 668                          Shinigami no Ballad.\n",
              " 1463                   YAT Anshin! Uchuu Ryokou 2\n",
              " 2249                               Kite Liberator\n",
              " 8717                           Dia Horizon (Kabu)\n",
              " 11864      Nissan Note x The World of Golden Eggs\n",
              " 494                               Yami no Matsuei\n",
              " 651                  Bleach: Memories in the Rain\n",
              " 1093                       Yami no Shihosha Judge\n",
              " 5728                             Ai Tenchi Muyou!\n",
              " 1800                                  Zombie-Loan\n",
              " 9257              Pochitto Hatsumei: Pikachin-Kit\n",
              " 6575     Persona 3 the Movie 4: Winter of Rebirth\n",
              " 9787                                       Sketch\n",
              " 3407         Onegai☆Teacher: Marie, Ai no Gekijou\n",
              " 8068                 Owara Nai Chinkonka wo Utaou\n",
              " 3575                   Bleach Movie 4: Jigoku-hen\n",
              " 340                                         Gantz\n",
              " 4064                       Da Yu Hai Tang (Movie)\n",
              " Name: Name, dtype: object,\n",
              " [(2106, 0.25828638642772195),\n",
              "  (2343, 0.18600003746388552),\n",
              "  (668, 0.15998514011412468),\n",
              "  (1463, 0.15811070114092504),\n",
              "  (2249, 0.15692443867896028),\n",
              "  (8717, 0.15614628703842687),\n",
              "  (11864, 0.15475615891855832),\n",
              "  (494, 0.14392136517554266),\n",
              "  (651, 0.14114913243958271),\n",
              "  (1093, 0.13677763130255896),\n",
              "  (5728, 0.1334155991855295),\n",
              "  (1800, 0.12266500747593469),\n",
              "  (9257, 0.11939797770239799),\n",
              "  (6575, 0.11735229660513277),\n",
              "  (9787, 0.11670570161113324),\n",
              "  (3407, 0.10557963606796873),\n",
              "  (8068, 0.10470700669803028),\n",
              "  (3575, 0.1014139544546163),\n",
              "  (340, 0.09943219558205509),\n",
              "  (4064, 0.09907851475565985)]]"
            ]
          },
          "metadata": {},
          "execution_count": 19
        }
      ]
    }
  ]
}
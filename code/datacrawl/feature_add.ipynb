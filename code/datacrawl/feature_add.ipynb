{
 "cells": [
  {
   "cell_type": "code",
   "execution_count": 170,
   "id": "f8ab53c8",
   "metadata": {},
   "outputs": [],
   "source": [
    "import requests\n",
    "from bs4 import BeautifulSoup\n",
    "import pandas as pd"
   ]
  },
  {
   "cell_type": "code",
   "execution_count": 171,
   "id": "9a8f6d8c",
   "metadata": {},
   "outputs": [],
   "source": [
    "anime_data = pd.read_csv(\"./../../data/anime.csv\")"
   ]
  },
  {
   "cell_type": "code",
   "execution_count": 172,
   "id": "415f9853",
   "metadata": {},
   "outputs": [],
   "source": [
    "character_data = pd.read_csv(\"./../../data/characters.csv\")"
   ]
  },
  {
   "cell_type": "markdown",
   "id": "ef04b9da",
   "metadata": {},
   "source": [
    "# Sample_list\n",
    "\n",
    "자신에게 맞는 부분만 주석처리 제외해주시면 됩니다."
   ]
  },
  {
   "cell_type": "code",
   "execution_count": 175,
   "id": "400c0d44",
   "metadata": {},
   "outputs": [],
   "source": [
    "##김정우\n",
    "#sample_list = [character_data[:2000],character_data[2000:4000],character_data[4000:6000],character_data[6000:8000]]\n",
    "\n",
    "\n",
    "#박정현\n",
    "#sample_list = [character_data[8000:10000],character_data[10000:12000],character_data[12000:14000],character_data[14000:16000]]\n",
    "\n",
    "\n",
    "#김찬호\n",
    "#sample_list = [character_data[16000:18000],character_data[18000:20000],character_data[20000:22000],character_data[22000:24000]]\n",
    "\n"
   ]
  },
  {
   "cell_type": "markdown",
   "id": "be46206a",
   "metadata": {},
   "source": [
    "# 크롤링 부분\n",
    "아래 네개의 블럭을 각각 실행시켜야합니다. 한 블럭당 실행시간은 대략 35~36분 정도 소요될 것 같습니다."
   ]
  },
  {
   "cell_type": "code",
   "execution_count": 174,
   "id": "907f9830",
   "metadata": {},
   "outputs": [
    {
     "name": "stdout",
     "output_type": "stream",
     "text": [
      ".........."
     ]
    }
   ],
   "source": [
    "sample = sample_list[0]\n",
    "ani_dict = {}\n",
    "for i in range(len(sample)):\n",
    "    res = requests.get(sample.loc[i]['url'])\n",
    "    soup = BeautifulSoup(res.content, 'html.parser')\n",
    "    temp = soup.find(\"table\", class_ = \"pure-table striped noHeader\")\n",
    "    character_name = sample.loc[i]['Name']\n",
    "    for item in temp.findAll('tr'):\n",
    "        anime = item.find('a').text\n",
    "        if len(anime_data.loc[anime_data['Name'] == anime])>0:\n",
    "            ani_id = anime_data.loc[anime_data['Name'] == anime].values[0][0]\n",
    "            ani_dict[character_name] = ani_id\n",
    "            break\n",
    "        ani_dict[character_name] = None\n",
    "    print('.', end='')\n",
    "\n",
    "char_ani_dfr = pd.DataFrame(list(ani_dict.items()),columns=['Name', 'MAL_ID'])\n",
    "merge_inner = pd.merge(sample, char_ani_dfr)\n",
    "merge_inner.to_csv('sample1.csv', index = False)"
   ]
  },
  {
   "cell_type": "code",
   "execution_count": null,
   "id": "463629d3",
   "metadata": {},
   "outputs": [],
   "source": [
    "sample = sample_list[1]\n",
    "ani_dict = {}\n",
    "for i in range(len(sample)):\n",
    "    res = requests.get(sample.loc[i]['url'])\n",
    "    soup = BeautifulSoup(res.content, 'html.parser')\n",
    "    temp = soup.find(\"table\", class_ = \"pure-table striped noHeader\")\n",
    "    character_name = sample.loc[i]['Name']\n",
    "    for item in temp.findAll('tr'):\n",
    "        anime = item.find('a').text\n",
    "        if len(anime_data.loc[anime_data['Name'] == anime])>0:\n",
    "            ani_id = anime_data.loc[anime_data['Name'] == anime].values[0][0]\n",
    "            ani_dict[character_name] = ani_id\n",
    "            break\n",
    "        ani_dict[character_name] = None\n",
    "    print('.', end='')\n",
    "\n",
    "char_ani_dfr = pd.DataFrame(list(ani_dict.items()),columns=['Name', 'MAL_ID'])\n",
    "merge_inner = pd.merge(sample, char_ani_dfr)\n",
    "merge_inner.to_csv('sample2.csv', index = False)"
   ]
  },
  {
   "cell_type": "code",
   "execution_count": null,
   "id": "adbec7a2",
   "metadata": {},
   "outputs": [],
   "source": [
    "sample = sample_list[2]\n",
    "ani_dict = {}\n",
    "for i in range(len(sample)):\n",
    "    res = requests.get(sample.loc[i]['url'])\n",
    "    soup = BeautifulSoup(res.content, 'html.parser')\n",
    "    temp = soup.find(\"table\", class_ = \"pure-table striped noHeader\")\n",
    "    character_name = sample.loc[i]['Name']\n",
    "    for item in temp.findAll('tr'):\n",
    "        anime = item.find('a').text\n",
    "        if len(anime_data.loc[anime_data['Name'] == anime])>0:\n",
    "            ani_id = anime_data.loc[anime_data['Name'] == anime].values[0][0]\n",
    "            ani_dict[character_name] = ani_id\n",
    "            break\n",
    "        ani_dict[character_name] = None\n",
    "    print('.', end='')\n",
    "\n",
    "char_ani_dfr = pd.DataFrame(list(ani_dict.items()),columns=['Name', 'MAL_ID'])\n",
    "merge_inner = pd.merge(sample, char_ani_dfr)\n",
    "merge_inner.to_csv('sample3.csv', index = False)"
   ]
  },
  {
   "cell_type": "code",
   "execution_count": null,
   "id": "886d127e",
   "metadata": {},
   "outputs": [],
   "source": [
    "sample = sample_list[3]\n",
    "ani_dict = {}\n",
    "for i in range(len(sample)):\n",
    "    res = requests.get(sample.loc[i]['url'])\n",
    "    soup = BeautifulSoup(res.content, 'html.parser')\n",
    "    temp = soup.find(\"table\", class_ = \"pure-table striped noHeader\")\n",
    "    character_name = sample.loc[i]['Name']\n",
    "    for item in temp.findAll('tr'):\n",
    "        anime = item.find('a').text\n",
    "        if len(anime_data.loc[anime_data['Name'] == anime])>0:\n",
    "            ani_id = anime_data.loc[anime_data['Name'] == anime].values[0][0]\n",
    "            ani_dict[character_name] = ani_id\n",
    "            break\n",
    "        ani_dict[character_name] = None\n",
    "    print('.', end='')\n",
    "\n",
    "char_ani_dfr = pd.DataFrame(list(ani_dict.items()),columns=['Name', 'MAL_ID'])\n",
    "merge_inner = pd.merge(sample, char_ani_dfr)\n",
    "merge_inner.to_csv('sample4.csv', index = False)"
   ]
  }
 ],
 "metadata": {
  "kernelspec": {
   "display_name": "tf_py3.9",
   "language": "python",
   "name": "tf_py3.9"
  },
  "language_info": {
   "codemirror_mode": {
    "name": "ipython",
    "version": 3
   },
   "file_extension": ".py",
   "mimetype": "text/x-python",
   "name": "python",
   "nbconvert_exporter": "python",
   "pygments_lexer": "ipython3",
   "version": "3.9.10"
  }
 },
 "nbformat": 4,
 "nbformat_minor": 5
}
